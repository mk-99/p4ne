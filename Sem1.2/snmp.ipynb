{
 "cells": [
  {
   "cell_type": "code",
   "execution_count": 2,
   "id": "6d170361-b21a-419f-b593-86fc7edc9d15",
   "metadata": {},
   "outputs": [],
   "source": [
    "from pysnmp.hlapi import *"
   ]
  },
  {
   "cell_type": "code",
   "execution_count": 3,
   "id": "4af73f5b-dbc3-4871-84c1-ba681e30a02f",
   "metadata": {},
   "outputs": [],
   "source": [
    "snmp_name = ObjectIdentity('SNMPv2-MIB', 'sysDescr', 0)\n",
    "snmp_interfaces = ObjectIdentity('1.3.6.1.2.1.2.2.1.2')"
   ]
  },
  {
   "cell_type": "code",
   "execution_count": 4,
   "id": "1d06fd00-1d01-48ff-b5b4-a8205154f0b9",
   "metadata": {},
   "outputs": [],
   "source": [
    "result_1 = getCmd(\n",
    "    SnmpEngine(),\n",
    "    CommunityData('public', mpModel=0),\n",
    "    UdpTransportTarget(('10.31.70.209', 161)),\n",
    "    ContextData(),\n",
    "    ObjectType(snmp_name)\n",
    ")"
   ]
  },
  {
   "cell_type": "code",
   "execution_count": 6,
   "id": "aa740c7b-1d07-4fcd-8b39-27643c5de9e3",
   "metadata": {},
   "outputs": [
    {
     "name": "stdout",
     "output_type": "stream",
     "text": [
      "(None, 0, 0, [ObjectType(ObjectIdentity(<ObjectName value object, tagSet <TagSet object, tags 0:0:6>, payload [1.3.6.1.2.1.1.1.0]>), <DisplayString value object, tagSet <TagSet object, tags 0:0:4>, subtypeSpec <ConstraintsIntersection object, consts <ValueSizeConstraint object, consts 0, 65535>, <ValueSizeConstraint object, consts 0, 255>, <ValueSizeConstraint object, consts 0, 255>>, encoding iso-8859-1, payload [Cisco IOS Softwa...14-Nov-23 05:59 ]>)])\n"
     ]
    }
   ],
   "source": [
    "for answer in result_1:\n",
    "    print(answer)"
   ]
  },
  {
   "cell_type": "code",
   "execution_count": 8,
   "id": "c5fd8357-4a15-47fb-b0a2-3a7c5a099d80",
   "metadata": {},
   "outputs": [
    {
     "name": "stdout",
     "output_type": "stream",
     "text": [
      "SNMPv2-MIB::sysDescr.0 = Cisco IOS Software [Dublin], Virtual XE Software (X86_64_LINUX_IOSD-UNIVERSALK9-M), Version 17.12.2, RELEASE SOFTWARE (fc2)\n",
      "Technical Support: http://www.cisco.com/techsupport\n",
      "Copyright (c) 1986-2023 by Cisco Systems, Inc.\n",
      "Compiled Tue 14-Nov-23 05:59 \n"
     ]
    }
   ],
   "source": [
    "for answer in result_1:\n",
    "    for s in answer[3]:\n",
    "        print(s)"
   ]
  },
  {
   "cell_type": "code",
   "execution_count": 9,
   "id": "8b3654c5-eeab-4e00-bc20-8bbccefdafae",
   "metadata": {},
   "outputs": [],
   "source": [
    "result_2 = nextCmd(\n",
    "    SnmpEngine(),\n",
    "    CommunityData('public', mpModel=0),\n",
    "    UdpTransportTarget(('10.31.70.209', 161)),\n",
    "    ContextData(),\n",
    "    ObjectType(snmp_interfaces),\n",
    "    lexicographicMode=False\n",
    ")"
   ]
  },
  {
   "cell_type": "code",
   "execution_count": 10,
   "id": "642fb369-ba7a-4717-bc79-83b7bc7d9c1c",
   "metadata": {},
   "outputs": [
    {
     "name": "stdout",
     "output_type": "stream",
     "text": [
      "SNMPv2-SMI::mib-2.2.2.1.2.1 = GigabitEthernet1\n",
      "SNMPv2-SMI::mib-2.2.2.1.2.2 = GigabitEthernet2\n",
      "SNMPv2-SMI::mib-2.2.2.1.2.3 = GigabitEthernet3\n",
      "SNMPv2-SMI::mib-2.2.2.1.2.4 = Null0\n",
      "SNMPv2-SMI::mib-2.2.2.1.2.5 = Loopback0\n",
      "SNMPv2-SMI::mib-2.2.2.1.2.6 = Loopback1\n",
      "SNMPv2-SMI::mib-2.2.2.1.2.7 = Loopback2\n",
      "SNMPv2-SMI::mib-2.2.2.1.2.8 = Loopback3\n"
     ]
    }
   ],
   "source": [
    "for answer in result_2:\n",
    "    for s in answer[3]:\n",
    "        print(s)"
   ]
  },
  {
   "cell_type": "code",
   "execution_count": null,
   "id": "4b3e67f2-8de7-4ccd-8a4e-9a07b35e20b5",
   "metadata": {},
   "outputs": [],
   "source": []
  }
 ],
 "metadata": {
  "kernelspec": {
   "display_name": "Python 3 (ipykernel)",
   "language": "python",
   "name": "python3"
  },
  "language_info": {
   "codemirror_mode": {
    "name": "ipython",
    "version": 3
   },
   "file_extension": ".py",
   "mimetype": "text/x-python",
   "name": "python",
   "nbconvert_exporter": "python",
   "pygments_lexer": "ipython3",
   "version": "3.11.7"
  }
 },
 "nbformat": 4,
 "nbformat_minor": 5
}
