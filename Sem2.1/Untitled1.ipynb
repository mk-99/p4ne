{
 "cells": [
  {
   "cell_type": "code",
   "execution_count": 1,
   "id": "4d45bc90-2dae-4b21-be49-1ffad586ee04",
   "metadata": {},
   "outputs": [],
   "source": [
    "import paramiko\n",
    "import time"
   ]
  },
  {
   "cell_type": "code",
   "execution_count": 2,
   "id": "018d5b43-2d2a-448b-8f11-1280f0f2159f",
   "metadata": {},
   "outputs": [],
   "source": [
    "ssh_conn = paramiko.SSHClient()\n",
    "ssh_conn.set_missing_host_key_policy(paramiko.AutoAddPolicy())"
   ]
  },
  {
   "cell_type": "code",
   "execution_count": 3,
   "id": "5049786c-3345-407f-b23a-e954350c399d",
   "metadata": {},
   "outputs": [],
   "source": [
    "ssh_conn.connect(\"10.31.70.209\", username=\"jet\", password=\"q1q1q1\", look_for_keys=False, allow_agent=False)\n",
    "session = ssh_conn.invoke_shell()"
   ]
  },
  {
   "cell_type": "code",
   "execution_count": 6,
   "id": "0fe69281-4a31-476d-a5f1-fecda845f829",
   "metadata": {},
   "outputs": [
    {
     "name": "stdout",
     "output_type": "stream",
     "text": [
      "\n",
      "c8000v-api-mk#\n",
      "c8000v-api-mk#\n",
      "c8000v-api-mk#show version\n",
      "Cisco IOS XE Software, Version 17.12.02\n",
      "Cisco IOS Software [Dublin], Virtual XE Software (X86_64_LINUX_IOSD-UNIVERSALK9-M), Version 17.12.2, RELEASE SOFTWARE (fc2)\n",
      "Technical Support: http://www.cisco.com/techsupport\n",
      "Copyright (c) 1986-2023 by Cisco Systems, Inc.\n",
      "Compiled Tue 14-Nov-23 05:59 by mcpre\n",
      "\n",
      "\n",
      "Cisco IOS-XE software, Copyright (c) 2005-2023 by cisco Systems, Inc.\n",
      "All rights reserved.  Certain components of Cisco IOS-XE software are\n",
      "licensed under the GNU General Public License (\"GPL\") Version 2.0.  The\n",
      "software code licensed under GPL Version 2.0 is free software that comes\n",
      "with ABSOLUTELY NO WARRANTY.  You can redistribute and/or modify such\n",
      "GPL code under the terms of GPL Version 2.0.  For more details, see the\n",
      "documentation or \"License Notice\" file accompanying the IOS-XE software,\n",
      "or the applicable URL provided on the flyer accompanying the IOS-XE\n",
      "software.\n",
      "\n",
      "\n",
      "ROM: IOS-XE ROMMON\n",
      "\n",
      "c8000v-api-mk uptime is 6 days, 5 hours, 0 minutes\n",
      "Uptime for this control processor is 6 days, 5 hours, 2 minutes\n",
      " --More--       \n",
      "c8000v-api-mk#\n",
      "c8000v-api-mk#\n"
     ]
    }
   ],
   "source": [
    "session.send(\"\\n\\n\\nshow version\\n\\n\\n\")\n",
    "s = session.recv(200000).decode()\n",
    "print(s)"
   ]
  },
  {
   "cell_type": "code",
   "execution_count": null,
   "id": "c7b8255a-5c16-43a4-8e56-9b8799a5174c",
   "metadata": {},
   "outputs": [],
   "source": []
  }
 ],
 "metadata": {
  "kernelspec": {
   "display_name": "Python 3 (ipykernel)",
   "language": "python",
   "name": "python3"
  },
  "language_info": {
   "codemirror_mode": {
    "name": "ipython",
    "version": 3
   },
   "file_extension": ".py",
   "mimetype": "text/x-python",
   "name": "python",
   "nbconvert_exporter": "python",
   "pygments_lexer": "ipython3",
   "version": "3.11.7"
  }
 },
 "nbformat": 4,
 "nbformat_minor": 5
}
